{
 "cells": [
  {
   "cell_type": "markdown",
   "metadata": {},
   "source": [
    "# sample_project/src/run_model.py"
   ]
  },
  {
   "cell_type": "code",
   "execution_count": 1,
   "metadata": {},
   "outputs": [],
   "source": [
    "from sklearn import datasets\n",
    "from sklearn.tree import DecisionTreeClassifier\n",
    "from sklearn.svm import SVC\n",
    "\n",
    "from urllib.parse import urlparse\n",
    "\n",
    "import mlflow"
   ]
  },
  {
   "cell_type": "code",
   "execution_count": 6,
   "metadata": {},
   "outputs": [
    {
     "name": "stderr",
     "output_type": "stream",
     "text": [
      "Registered model 'DeploymentModel' already exists. Creating a new version of this model...\n",
      "2021/08/28 13:08:08 INFO mlflow.tracking._model_registry.client: Waiting up to 300 seconds for model version to finish creation.                     Model name: DeploymentModel, version 2\n",
      "Created version '2' of model 'DeploymentModel'.\n"
     ]
    }
   ],
   "source": [
    "mlflow.set_tracking_uri(\"http://127.0.0.1:5000\")\n",
    "mlflow.set_experiment(\"deployment_exp\")\n",
    "\n",
    "with mlflow.start_run() as run:\n",
    "    X, y = datasets.load_digits(return_X_y=True)\n",
    "    \n",
    "    model1 = DecisionTreeClassifier()\n",
    "    model2 = SVC()\n",
    "    \n",
    "    model2.fit(X, y)\n",
    "    score = model2.score(X, y)\n",
    "    mlflow.log_metric(\"acc\", score)\n",
    "    \n",
    "    tracking_url_type_store = urlparse(\n",
    "        mlflow.get_artifact_uri()\n",
    "    ).scheme\n",
    "    \n",
    "    if tracking_url_type_store!=\"file\":\n",
    "        mlflow.sklearn.log_model(\n",
    "            model2, \"model\",\n",
    "            registered_model_name=\"DeploymentModel\"\n",
    "        )\n",
    "    else:\n",
    "        mlflow.sklearn.log_model(model2, \"model\")"
   ]
  },
  {
   "cell_type": "markdown",
   "metadata": {},
   "source": [
    "# sample_project/tests/test_sample.py"
   ]
  },
  {
   "cell_type": "code",
   "execution_count": 7,
   "metadata": {},
   "outputs": [],
   "source": [
    "def test_sample():\n",
    "    return True"
   ]
  },
  {
   "cell_type": "code",
   "execution_count": null,
   "metadata": {},
   "outputs": [],
   "source": []
  }
 ],
 "metadata": {
  "kernelspec": {
   "display_name": "Python 3",
   "language": "python",
   "name": "python3"
  },
  "language_info": {
   "codemirror_mode": {
    "name": "ipython",
    "version": 3
   },
   "file_extension": ".py",
   "mimetype": "text/x-python",
   "name": "python",
   "nbconvert_exporter": "python",
   "pygments_lexer": "ipython3",
   "version": "3.8.5"
  }
 },
 "nbformat": 4,
 "nbformat_minor": 5
}